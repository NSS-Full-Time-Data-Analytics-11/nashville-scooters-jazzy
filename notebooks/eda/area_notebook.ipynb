{
 "cells": [
  {
   "cell_type": "code",
   "execution_count": 1,
   "id": "9f6ac47c-1d03-460a-b0f8-cd523ea6b9c6",
   "metadata": {},
   "outputs": [],
   "source": [
    "from sqlalchemy import create_engine, text\n",
    "import pandas as pd\n",
    "import geopandas as gpd\n",
    "import matplotlib.pyplot as plt\n",
    "import folium\n",
    "from folium.plugins import MarkerCluster\n",
    "from folium.plugins import FastMarkerCluster\n",
    "from shapely.geometry import Point\n"
   ]
  },
  {
   "cell_type": "code",
   "execution_count": 3,
   "id": "3cc1801c-5753-4707-a433-2c51c9847a39",
   "metadata": {},
   "outputs": [
    {
     "name": "stdout",
     "output_type": "stream",
     "text": [
      "EPSG:4326\n"
     ]
    },
    {
     "data": {
      "text/html": [
       "<div>\n",
       "<style scoped>\n",
       "    .dataframe tbody tr th:only-of-type {\n",
       "        vertical-align: middle;\n",
       "    }\n",
       "\n",
       "    .dataframe tbody tr th {\n",
       "        vertical-align: top;\n",
       "    }\n",
       "\n",
       "    .dataframe thead th {\n",
       "        text-align: right;\n",
       "    }\n",
       "</style>\n",
       "<table border=\"1\" class=\"dataframe\">\n",
       "  <thead>\n",
       "    <tr style=\"text-align: right;\">\n",
       "      <th></th>\n",
       "      <th>zip</th>\n",
       "      <th>objectid</th>\n",
       "      <th>po_name</th>\n",
       "      <th>shape_stlength</th>\n",
       "      <th>shape_starea</th>\n",
       "      <th>geometry</th>\n",
       "    </tr>\n",
       "  </thead>\n",
       "  <tbody>\n",
       "    <tr>\n",
       "      <th>0</th>\n",
       "      <td>37115</td>\n",
       "      <td>1</td>\n",
       "      <td>MADISON</td>\n",
       "      <td>178783.02488886821</td>\n",
       "      <td>596553400.57885742</td>\n",
       "      <td>MULTIPOLYGON (((-86.68725 36.31821, -86.68722 ...</td>\n",
       "    </tr>\n",
       "    <tr>\n",
       "      <th>1</th>\n",
       "      <td>37216</td>\n",
       "      <td>3</td>\n",
       "      <td>NASHVILLE</td>\n",
       "      <td>75820.997821400058</td>\n",
       "      <td>188884682.28344727</td>\n",
       "      <td>MULTIPOLYGON (((-86.73451 36.23774, -86.73425 ...</td>\n",
       "    </tr>\n",
       "    <tr>\n",
       "      <th>2</th>\n",
       "      <td>37204</td>\n",
       "      <td>9</td>\n",
       "      <td>NASHVILLE</td>\n",
       "      <td>93180.292250425613</td>\n",
       "      <td>200664795.51708984</td>\n",
       "      <td>MULTIPOLYGON (((-86.77914 36.13424, -86.77923 ...</td>\n",
       "    </tr>\n",
       "    <tr>\n",
       "      <th>3</th>\n",
       "      <td>37027</td>\n",
       "      <td>11</td>\n",
       "      <td>BRENTWOOD</td>\n",
       "      <td>159760.6942933173</td>\n",
       "      <td>174978422.04101562</td>\n",
       "      <td>MULTIPOLYGON (((-86.81258 36.06319, -86.81263 ...</td>\n",
       "    </tr>\n",
       "    <tr>\n",
       "      <th>4</th>\n",
       "      <td>37064</td>\n",
       "      <td>18</td>\n",
       "      <td>FRANKLIN</td>\n",
       "      <td>28995.828320601937</td>\n",
       "      <td>46969608.005737305</td>\n",
       "      <td>MULTIPOLYGON (((-87.02197 36.01200, -87.02140 ...</td>\n",
       "    </tr>\n",
       "  </tbody>\n",
       "</table>\n",
       "</div>"
      ],
      "text/plain": [
       "     zip objectid    po_name      shape_stlength        shape_starea  \\\n",
       "0  37115        1    MADISON  178783.02488886821  596553400.57885742   \n",
       "1  37216        3  NASHVILLE  75820.997821400058  188884682.28344727   \n",
       "2  37204        9  NASHVILLE  93180.292250425613  200664795.51708984   \n",
       "3  37027       11  BRENTWOOD   159760.6942933173  174978422.04101562   \n",
       "4  37064       18   FRANKLIN  28995.828320601937  46969608.005737305   \n",
       "\n",
       "                                            geometry  \n",
       "0  MULTIPOLYGON (((-86.68725 36.31821, -86.68722 ...  \n",
       "1  MULTIPOLYGON (((-86.73451 36.23774, -86.73425 ...  \n",
       "2  MULTIPOLYGON (((-86.77914 36.13424, -86.77923 ...  \n",
       "3  MULTIPOLYGON (((-86.81258 36.06319, -86.81263 ...  \n",
       "4  MULTIPOLYGON (((-87.02197 36.01200, -87.02140 ...  "
      ]
     },
     "execution_count": 3,
     "metadata": {},
     "output_type": "execute_result"
    }
   ],
   "source": [
    "zipcodes = gpd.read_file('../../../../data/zipcodes.geojson')\n",
    "print(zipcodes.crs)\n",
    "zipcodes.head()"
   ]
  },
  {
   "cell_type": "code",
   "execution_count": 4,
   "id": "36016506-ffd1-463f-ac8f-276220d9cbfa",
   "metadata": {},
   "outputs": [
    {
     "name": "stdout",
     "output_type": "stream",
     "text": [
      "+init=epsg:3857 +type=crs\n"
     ]
    },
    {
     "name": "stderr",
     "output_type": "stream",
     "text": [
      "C:\\Users\\rose\\anaconda3\\envs\\scooters\\lib\\site-packages\\pyproj\\crs\\crs.py:141: FutureWarning: '+init=<authority>:<code>' syntax is deprecated. '<authority>:<code>' is the preferred initialization method. When making the change, be mindful of axis order changes: https://pyproj4.github.io/pyproj/stable/gotchas.html#axis-order-changes-in-proj-6\n",
      "  in_crs_string = _prepare_from_proj_string(in_crs_string)\n"
     ]
    }
   ],
   "source": [
    "zipcodes_cart = zipcodes.to_crs({'init':'epsg:3857'})\n",
    "print(zipcodes_cart.crs)"
   ]
  },
  {
   "cell_type": "markdown",
   "id": "398ac592-e548-4b1e-bc53-b97825e2b980",
   "metadata": {},
   "source": [
    "this espg is cartesian which a"
   ]
  },
  {
   "cell_type": "code",
   "execution_count": 5,
   "id": "f8698794-2c17-4660-844c-4ec450f2d1b3",
   "metadata": {},
   "outputs": [
    {
     "name": "stdout",
     "output_type": "stream",
     "text": [
      "+init=epsg:3857 +type=crs\n"
     ]
    }
   ],
   "source": [
    "print(zipcodes_cart.crs)"
   ]
  },
  {
   "cell_type": "code",
   "execution_count": 6,
   "id": "d4d091d1-eab4-4a92-afed-a69b7113fa5a",
   "metadata": {},
   "outputs": [],
   "source": [
    "zipcodes_cart['area'] = zipcodes_cart['geometry'].area/10**6"
   ]
  },
  {
   "cell_type": "code",
   "execution_count": 7,
   "id": "acd5195b-d03d-43cb-a722-d61056b2a4cf",
   "metadata": {},
   "outputs": [
    {
     "data": {
      "text/html": [
       "<div>\n",
       "<style scoped>\n",
       "    .dataframe tbody tr th:only-of-type {\n",
       "        vertical-align: middle;\n",
       "    }\n",
       "\n",
       "    .dataframe tbody tr th {\n",
       "        vertical-align: top;\n",
       "    }\n",
       "\n",
       "    .dataframe thead th {\n",
       "        text-align: right;\n",
       "    }\n",
       "</style>\n",
       "<table border=\"1\" class=\"dataframe\">\n",
       "  <thead>\n",
       "    <tr style=\"text-align: right;\">\n",
       "      <th></th>\n",
       "      <th>zip</th>\n",
       "      <th>objectid</th>\n",
       "      <th>po_name</th>\n",
       "      <th>shape_stlength</th>\n",
       "      <th>shape_starea</th>\n",
       "      <th>geometry</th>\n",
       "      <th>area</th>\n",
       "    </tr>\n",
       "  </thead>\n",
       "  <tbody>\n",
       "    <tr>\n",
       "      <th>0</th>\n",
       "      <td>37115</td>\n",
       "      <td>1</td>\n",
       "      <td>MADISON</td>\n",
       "      <td>178783.02488886821</td>\n",
       "      <td>596553400.57885742</td>\n",
       "      <td>MULTIPOLYGON (((-9649980.414 4344495.673, -964...</td>\n",
       "      <td>85.404945</td>\n",
       "    </tr>\n",
       "    <tr>\n",
       "      <th>1</th>\n",
       "      <td>37216</td>\n",
       "      <td>3</td>\n",
       "      <td>NASHVILLE</td>\n",
       "      <td>75820.997821400058</td>\n",
       "      <td>188884682.28344727</td>\n",
       "      <td>MULTIPOLYGON (((-9655241.695 4333382.848, -965...</td>\n",
       "      <td>27.015486</td>\n",
       "    </tr>\n",
       "    <tr>\n",
       "      <th>2</th>\n",
       "      <td>37204</td>\n",
       "      <td>9</td>\n",
       "      <td>NASHVILLE</td>\n",
       "      <td>93180.292250425613</td>\n",
       "      <td>200664795.51708984</td>\n",
       "      <td>MULTIPOLYGON (((-9660209.482 4319108.081, -966...</td>\n",
       "      <td>28.620981</td>\n",
       "    </tr>\n",
       "    <tr>\n",
       "      <th>3</th>\n",
       "      <td>37027</td>\n",
       "      <td>11</td>\n",
       "      <td>BRENTWOOD</td>\n",
       "      <td>159760.6942933173</td>\n",
       "      <td>174978422.04101562</td>\n",
       "      <td>MULTIPOLYGON (((-9663931.872 4309319.397, -966...</td>\n",
       "      <td>24.917208</td>\n",
       "    </tr>\n",
       "    <tr>\n",
       "      <th>4</th>\n",
       "      <td>37064</td>\n",
       "      <td>18</td>\n",
       "      <td>FRANKLIN</td>\n",
       "      <td>28995.828320601937</td>\n",
       "      <td>46969608.005737305</td>\n",
       "      <td>MULTIPOLYGON (((-9687241.027 4302272.313, -968...</td>\n",
       "      <td>6.681648</td>\n",
       "    </tr>\n",
       "  </tbody>\n",
       "</table>\n",
       "</div>"
      ],
      "text/plain": [
       "     zip objectid    po_name      shape_stlength        shape_starea  \\\n",
       "0  37115        1    MADISON  178783.02488886821  596553400.57885742   \n",
       "1  37216        3  NASHVILLE  75820.997821400058  188884682.28344727   \n",
       "2  37204        9  NASHVILLE  93180.292250425613  200664795.51708984   \n",
       "3  37027       11  BRENTWOOD   159760.6942933173  174978422.04101562   \n",
       "4  37064       18   FRANKLIN  28995.828320601937  46969608.005737305   \n",
       "\n",
       "                                            geometry       area  \n",
       "0  MULTIPOLYGON (((-9649980.414 4344495.673, -964...  85.404945  \n",
       "1  MULTIPOLYGON (((-9655241.695 4333382.848, -965...  27.015486  \n",
       "2  MULTIPOLYGON (((-9660209.482 4319108.081, -966...  28.620981  \n",
       "3  MULTIPOLYGON (((-9663931.872 4309319.397, -966...  24.917208  \n",
       "4  MULTIPOLYGON (((-9687241.027 4302272.313, -968...   6.681648  "
      ]
     },
     "execution_count": 7,
     "metadata": {},
     "output_type": "execute_result"
    }
   ],
   "source": [
    "zipcodes_cart.head()"
   ]
  },
  {
   "cell_type": "code",
   "execution_count": 9,
   "id": "4cd2e01d-0cf1-48e2-936d-c1253bbf84cd",
   "metadata": {},
   "outputs": [],
   "source": [
    "zipcodes_cart['area'] = zipcodes_cart['area'] / 2.58998811"
   ]
  },
  {
   "cell_type": "code",
   "execution_count": 10,
   "id": "2bac78c1-66ca-43f6-9951-dcf6a276f518",
   "metadata": {},
   "outputs": [
    {
     "data": {
      "text/html": [
       "<div>\n",
       "<style scoped>\n",
       "    .dataframe tbody tr th:only-of-type {\n",
       "        vertical-align: middle;\n",
       "    }\n",
       "\n",
       "    .dataframe tbody tr th {\n",
       "        vertical-align: top;\n",
       "    }\n",
       "\n",
       "    .dataframe thead th {\n",
       "        text-align: right;\n",
       "    }\n",
       "</style>\n",
       "<table border=\"1\" class=\"dataframe\">\n",
       "  <thead>\n",
       "    <tr style=\"text-align: right;\">\n",
       "      <th></th>\n",
       "      <th>zip</th>\n",
       "      <th>objectid</th>\n",
       "      <th>po_name</th>\n",
       "      <th>shape_stlength</th>\n",
       "      <th>shape_starea</th>\n",
       "      <th>geometry</th>\n",
       "      <th>area</th>\n",
       "    </tr>\n",
       "  </thead>\n",
       "  <tbody>\n",
       "    <tr>\n",
       "      <th>0</th>\n",
       "      <td>37115</td>\n",
       "      <td>1</td>\n",
       "      <td>MADISON</td>\n",
       "      <td>178783.02488886821</td>\n",
       "      <td>596553400.57885742</td>\n",
       "      <td>MULTIPOLYGON (((-9649980.414 4344495.673, -964...</td>\n",
       "      <td>32.975034</td>\n",
       "    </tr>\n",
       "    <tr>\n",
       "      <th>1</th>\n",
       "      <td>37216</td>\n",
       "      <td>3</td>\n",
       "      <td>NASHVILLE</td>\n",
       "      <td>75820.997821400058</td>\n",
       "      <td>188884682.28344727</td>\n",
       "      <td>MULTIPOLYGON (((-9655241.695 4333382.848, -965...</td>\n",
       "      <td>10.430738</td>\n",
       "    </tr>\n",
       "    <tr>\n",
       "      <th>2</th>\n",
       "      <td>37204</td>\n",
       "      <td>9</td>\n",
       "      <td>NASHVILLE</td>\n",
       "      <td>93180.292250425613</td>\n",
       "      <td>200664795.51708984</td>\n",
       "      <td>MULTIPOLYGON (((-9660209.482 4319108.081, -966...</td>\n",
       "      <td>11.050622</td>\n",
       "    </tr>\n",
       "    <tr>\n",
       "      <th>3</th>\n",
       "      <td>37027</td>\n",
       "      <td>11</td>\n",
       "      <td>BRENTWOOD</td>\n",
       "      <td>159760.6942933173</td>\n",
       "      <td>174978422.04101562</td>\n",
       "      <td>MULTIPOLYGON (((-9663931.872 4309319.397, -966...</td>\n",
       "      <td>9.620588</td>\n",
       "    </tr>\n",
       "    <tr>\n",
       "      <th>4</th>\n",
       "      <td>37064</td>\n",
       "      <td>18</td>\n",
       "      <td>FRANKLIN</td>\n",
       "      <td>28995.828320601937</td>\n",
       "      <td>46969608.005737305</td>\n",
       "      <td>MULTIPOLYGON (((-9687241.027 4302272.313, -968...</td>\n",
       "      <td>2.579799</td>\n",
       "    </tr>\n",
       "  </tbody>\n",
       "</table>\n",
       "</div>"
      ],
      "text/plain": [
       "     zip objectid    po_name      shape_stlength        shape_starea  \\\n",
       "0  37115        1    MADISON  178783.02488886821  596553400.57885742   \n",
       "1  37216        3  NASHVILLE  75820.997821400058  188884682.28344727   \n",
       "2  37204        9  NASHVILLE  93180.292250425613  200664795.51708984   \n",
       "3  37027       11  BRENTWOOD   159760.6942933173  174978422.04101562   \n",
       "4  37064       18   FRANKLIN  28995.828320601937  46969608.005737305   \n",
       "\n",
       "                                            geometry       area  \n",
       "0  MULTIPOLYGON (((-9649980.414 4344495.673, -964...  32.975034  \n",
       "1  MULTIPOLYGON (((-9655241.695 4333382.848, -965...  10.430738  \n",
       "2  MULTIPOLYGON (((-9660209.482 4319108.081, -966...  11.050622  \n",
       "3  MULTIPOLYGON (((-9663931.872 4309319.397, -966...   9.620588  \n",
       "4  MULTIPOLYGON (((-9687241.027 4302272.313, -968...   2.579799  "
      ]
     },
     "execution_count": 10,
     "metadata": {},
     "output_type": "execute_result"
    }
   ],
   "source": [
    "zipcodes_cart.head()"
   ]
  },
  {
   "cell_type": "code",
   "execution_count": 11,
   "id": "591f8ba1-5bd0-4e9c-9e4d-710bacd62b56",
   "metadata": {},
   "outputs": [],
   "source": [
    "selection_area = zipcodes[0:5]"
   ]
  },
  {
   "cell_type": "code",
   "execution_count": 14,
   "id": "4a06d80a-837d-4798-91ef-a673d7eaf949",
   "metadata": {},
   "outputs": [
    {
     "name": "stdout",
     "output_type": "stream",
     "text": [
      "Polygon area at index 0 is  0.006\n",
      "Polygon area at index 1 is  0.002\n",
      "Polygon area at index 2 is  0.002\n",
      "Polygon area at index 3 is  0.002\n",
      "Polygon area at index 4 is  0.000\n"
     ]
    }
   ],
   "source": [
    "for index, row in selection_area.iterrows():\n",
    "    poly_area = row['geometry'].area\n",
    "    print(\"Polygon area at index {0} is {1: .3f}\".format(index, poly_area))"
   ]
  },
  {
   "cell_type": "markdown",
   "id": "1a6e74ef-a9e3-463c-ba8c-92d16897644a",
   "metadata": {},
   "source": [
    " Line below is reprojecting shape in Cylindrical equal-area format with {'proj':'cea'} that preserve area measure."
   ]
  },
  {
   "cell_type": "code",
   "execution_count": 22,
   "id": "3100720f-390a-4d5b-a2a3-898f5df15bca",
   "metadata": {},
   "outputs": [
    {
     "ename": "KeyError",
     "evalue": "'geometry'",
     "output_type": "error",
     "traceback": [
      "\u001b[1;31m---------------------------------------------------------------------------\u001b[0m",
      "\u001b[1;31mKeyError\u001b[0m                                  Traceback (most recent call last)",
      "File \u001b[1;32m~\\anaconda3\\envs\\scooters\\lib\\site-packages\\pandas\\core\\indexes\\base.py:3790\u001b[0m, in \u001b[0;36mIndex.get_loc\u001b[1;34m(self, key)\u001b[0m\n\u001b[0;32m   3789\u001b[0m \u001b[38;5;28;01mtry\u001b[39;00m:\n\u001b[1;32m-> 3790\u001b[0m     \u001b[38;5;28;01mreturn\u001b[39;00m \u001b[38;5;28;43mself\u001b[39;49m\u001b[38;5;241;43m.\u001b[39;49m\u001b[43m_engine\u001b[49m\u001b[38;5;241;43m.\u001b[39;49m\u001b[43mget_loc\u001b[49m\u001b[43m(\u001b[49m\u001b[43mcasted_key\u001b[49m\u001b[43m)\u001b[49m\n\u001b[0;32m   3791\u001b[0m \u001b[38;5;28;01mexcept\u001b[39;00m \u001b[38;5;167;01mKeyError\u001b[39;00m \u001b[38;5;28;01mas\u001b[39;00m err:\n",
      "File \u001b[1;32mindex.pyx:152\u001b[0m, in \u001b[0;36mpandas._libs.index.IndexEngine.get_loc\u001b[1;34m()\u001b[0m\n",
      "File \u001b[1;32mindex.pyx:181\u001b[0m, in \u001b[0;36mpandas._libs.index.IndexEngine.get_loc\u001b[1;34m()\u001b[0m\n",
      "File \u001b[1;32mpandas\\_libs\\hashtable_class_helper.pxi:7080\u001b[0m, in \u001b[0;36mpandas._libs.hashtable.PyObjectHashTable.get_item\u001b[1;34m()\u001b[0m\n",
      "File \u001b[1;32mpandas\\_libs\\hashtable_class_helper.pxi:7088\u001b[0m, in \u001b[0;36mpandas._libs.hashtable.PyObjectHashTable.get_item\u001b[1;34m()\u001b[0m\n",
      "\u001b[1;31mKeyError\u001b[0m: 'geometry'",
      "\nThe above exception was the direct cause of the following exception:\n",
      "\u001b[1;31mKeyError\u001b[0m                                  Traceback (most recent call last)",
      "Cell \u001b[1;32mIn[22], line 1\u001b[0m\n\u001b[1;32m----> 1\u001b[0m zipcodes_test \u001b[38;5;241m=\u001b[39m \u001b[43mzipcodes\u001b[49m\u001b[43m[\u001b[49m\u001b[38;5;124;43m'\u001b[39;49m\u001b[38;5;124;43mgeometry\u001b[39;49m\u001b[38;5;124;43m'\u001b[39;49m\u001b[43m]\u001b[49m\u001b[38;5;241m.\u001b[39mto_crs({\u001b[38;5;124m'\u001b[39m\u001b[38;5;124mproj\u001b[39m\u001b[38;5;124m'\u001b[39m: \u001b[38;5;124m'\u001b[39m\u001b[38;5;124mcea\u001b[39m\u001b[38;5;124m'\u001b[39m})\n\u001b[0;32m      2\u001b[0m \u001b[38;5;28mtype\u001b[39m(zipcodes_test)\n",
      "File \u001b[1;32m~\\anaconda3\\envs\\scooters\\lib\\site-packages\\geopandas\\geoseries.py:629\u001b[0m, in \u001b[0;36mGeoSeries.__getitem__\u001b[1;34m(self, key)\u001b[0m\n\u001b[0;32m    628\u001b[0m \u001b[38;5;28;01mdef\u001b[39;00m \u001b[38;5;21m__getitem__\u001b[39m(\u001b[38;5;28mself\u001b[39m, key):\n\u001b[1;32m--> 629\u001b[0m     \u001b[38;5;28;01mreturn\u001b[39;00m \u001b[38;5;28;43mself\u001b[39;49m\u001b[38;5;241;43m.\u001b[39;49m\u001b[43m_wrapped_pandas_method\u001b[49m\u001b[43m(\u001b[49m\u001b[38;5;124;43m\"\u001b[39;49m\u001b[38;5;124;43m__getitem__\u001b[39;49m\u001b[38;5;124;43m\"\u001b[39;49m\u001b[43m,\u001b[49m\u001b[43m \u001b[49m\u001b[43mkey\u001b[49m\u001b[43m)\u001b[49m\n",
      "File \u001b[1;32m~\\anaconda3\\envs\\scooters\\lib\\site-packages\\geopandas\\geoseries.py:622\u001b[0m, in \u001b[0;36mGeoSeries._wrapped_pandas_method\u001b[1;34m(self, mtd, *args, **kwargs)\u001b[0m\n\u001b[0;32m    620\u001b[0m \u001b[38;5;28;01mdef\u001b[39;00m \u001b[38;5;21m_wrapped_pandas_method\u001b[39m(\u001b[38;5;28mself\u001b[39m, mtd, \u001b[38;5;241m*\u001b[39margs, \u001b[38;5;241m*\u001b[39m\u001b[38;5;241m*\u001b[39mkwargs):\n\u001b[0;32m    621\u001b[0m \u001b[38;5;250m    \u001b[39m\u001b[38;5;124;03m\"\"\"Wrap a generic pandas method to ensure it returns a GeoSeries\"\"\"\u001b[39;00m\n\u001b[1;32m--> 622\u001b[0m     val \u001b[38;5;241m=\u001b[39m \u001b[38;5;28mgetattr\u001b[39m(\u001b[38;5;28msuper\u001b[39m(), mtd)(\u001b[38;5;241m*\u001b[39margs, \u001b[38;5;241m*\u001b[39m\u001b[38;5;241m*\u001b[39mkwargs)\n\u001b[0;32m    623\u001b[0m     \u001b[38;5;28;01mif\u001b[39;00m \u001b[38;5;28mtype\u001b[39m(val) \u001b[38;5;241m==\u001b[39m Series:\n\u001b[0;32m    624\u001b[0m         val\u001b[38;5;241m.\u001b[39m\u001b[38;5;18m__class__\u001b[39m \u001b[38;5;241m=\u001b[39m GeoSeries\n",
      "File \u001b[1;32m~\\anaconda3\\envs\\scooters\\lib\\site-packages\\pandas\\core\\series.py:1040\u001b[0m, in \u001b[0;36mSeries.__getitem__\u001b[1;34m(self, key)\u001b[0m\n\u001b[0;32m   1037\u001b[0m     \u001b[38;5;28;01mreturn\u001b[39;00m \u001b[38;5;28mself\u001b[39m\u001b[38;5;241m.\u001b[39m_values[key]\n\u001b[0;32m   1039\u001b[0m \u001b[38;5;28;01melif\u001b[39;00m key_is_scalar:\n\u001b[1;32m-> 1040\u001b[0m     \u001b[38;5;28;01mreturn\u001b[39;00m \u001b[38;5;28;43mself\u001b[39;49m\u001b[38;5;241;43m.\u001b[39;49m\u001b[43m_get_value\u001b[49m\u001b[43m(\u001b[49m\u001b[43mkey\u001b[49m\u001b[43m)\u001b[49m\n\u001b[0;32m   1042\u001b[0m \u001b[38;5;66;03m# Convert generator to list before going through hashable part\u001b[39;00m\n\u001b[0;32m   1043\u001b[0m \u001b[38;5;66;03m# (We will iterate through the generator there to check for slices)\u001b[39;00m\n\u001b[0;32m   1044\u001b[0m \u001b[38;5;28;01mif\u001b[39;00m is_iterator(key):\n",
      "File \u001b[1;32m~\\anaconda3\\envs\\scooters\\lib\\site-packages\\pandas\\core\\series.py:1156\u001b[0m, in \u001b[0;36mSeries._get_value\u001b[1;34m(self, label, takeable)\u001b[0m\n\u001b[0;32m   1153\u001b[0m     \u001b[38;5;28;01mreturn\u001b[39;00m \u001b[38;5;28mself\u001b[39m\u001b[38;5;241m.\u001b[39m_values[label]\n\u001b[0;32m   1155\u001b[0m \u001b[38;5;66;03m# Similar to Index.get_value, but we do not fall back to positional\u001b[39;00m\n\u001b[1;32m-> 1156\u001b[0m loc \u001b[38;5;241m=\u001b[39m \u001b[38;5;28;43mself\u001b[39;49m\u001b[38;5;241;43m.\u001b[39;49m\u001b[43mindex\u001b[49m\u001b[38;5;241;43m.\u001b[39;49m\u001b[43mget_loc\u001b[49m\u001b[43m(\u001b[49m\u001b[43mlabel\u001b[49m\u001b[43m)\u001b[49m\n\u001b[0;32m   1158\u001b[0m \u001b[38;5;28;01mif\u001b[39;00m is_integer(loc):\n\u001b[0;32m   1159\u001b[0m     \u001b[38;5;28;01mreturn\u001b[39;00m \u001b[38;5;28mself\u001b[39m\u001b[38;5;241m.\u001b[39m_values[loc]\n",
      "File \u001b[1;32m~\\anaconda3\\envs\\scooters\\lib\\site-packages\\pandas\\core\\indexes\\base.py:3797\u001b[0m, in \u001b[0;36mIndex.get_loc\u001b[1;34m(self, key)\u001b[0m\n\u001b[0;32m   3792\u001b[0m     \u001b[38;5;28;01mif\u001b[39;00m \u001b[38;5;28misinstance\u001b[39m(casted_key, \u001b[38;5;28mslice\u001b[39m) \u001b[38;5;129;01mor\u001b[39;00m (\n\u001b[0;32m   3793\u001b[0m         \u001b[38;5;28misinstance\u001b[39m(casted_key, abc\u001b[38;5;241m.\u001b[39mIterable)\n\u001b[0;32m   3794\u001b[0m         \u001b[38;5;129;01mand\u001b[39;00m \u001b[38;5;28many\u001b[39m(\u001b[38;5;28misinstance\u001b[39m(x, \u001b[38;5;28mslice\u001b[39m) \u001b[38;5;28;01mfor\u001b[39;00m x \u001b[38;5;129;01min\u001b[39;00m casted_key)\n\u001b[0;32m   3795\u001b[0m     ):\n\u001b[0;32m   3796\u001b[0m         \u001b[38;5;28;01mraise\u001b[39;00m InvalidIndexError(key)\n\u001b[1;32m-> 3797\u001b[0m     \u001b[38;5;28;01mraise\u001b[39;00m \u001b[38;5;167;01mKeyError\u001b[39;00m(key) \u001b[38;5;28;01mfrom\u001b[39;00m \u001b[38;5;21;01merr\u001b[39;00m\n\u001b[0;32m   3798\u001b[0m \u001b[38;5;28;01mexcept\u001b[39;00m \u001b[38;5;167;01mTypeError\u001b[39;00m:\n\u001b[0;32m   3799\u001b[0m     \u001b[38;5;66;03m# If we have a listlike key, _check_indexing_error will raise\u001b[39;00m\n\u001b[0;32m   3800\u001b[0m     \u001b[38;5;66;03m#  InvalidIndexError. Otherwise we fall through and re-raise\u001b[39;00m\n\u001b[0;32m   3801\u001b[0m     \u001b[38;5;66;03m#  the TypeError.\u001b[39;00m\n\u001b[0;32m   3802\u001b[0m     \u001b[38;5;28mself\u001b[39m\u001b[38;5;241m.\u001b[39m_check_indexing_error(key)\n",
      "\u001b[1;31mKeyError\u001b[0m: 'geometry'"
     ]
    }
   ],
   "source": [
    "zipcodes_test = zipcodes['geometry'].to_crs({'proj': 'cea'})\n",
    "type(zipcodes_test)"
   ]
  },
  {
   "cell_type": "code",
   "execution_count": 17,
   "id": "5e8130d4-0940-4389-a9d3-c3f6a7e1475c",
   "metadata": {},
   "outputs": [
    {
     "data": {
      "text/plain": [
       "0     21.399563\n",
       "1      6.775731\n",
       "2      7.198472\n",
       "3      6.277082\n",
       "4      1.684972\n",
       "5      0.068172\n",
       "6      0.002028\n",
       "7     45.429851\n",
       "8     39.277807\n",
       "9      2.651732\n",
       "10     2.680024\n",
       "11     0.010927\n",
       "12    35.921720\n",
       "13     7.947122\n",
       "14     0.877504\n",
       "15     0.119712\n",
       "16     0.000208\n",
       "17    18.567161\n",
       "18    24.868482\n",
       "19     0.250654\n",
       "20    31.144623\n",
       "21     0.019852\n",
       "22    14.292525\n",
       "23     1.154236\n",
       "24     0.236007\n",
       "25     0.005597\n",
       "26     0.014924\n",
       "27    38.453870\n",
       "28     0.024244\n",
       "29     0.002809\n",
       "30     0.085817\n",
       "31     0.839145\n",
       "32    14.384320\n",
       "33     0.382525\n",
       "34     3.452994\n",
       "35     4.328048\n",
       "36     0.400029\n",
       "37    24.180670\n",
       "38     9.326879\n",
       "39     0.101947\n",
       "40     4.584933\n",
       "41     0.039677\n",
       "42    19.972658\n",
       "43     0.015568\n",
       "44    15.238042\n",
       "45     1.717514\n",
       "46    35.291930\n",
       "47     9.529224\n",
       "48     0.002814\n",
       "49    21.603456\n",
       "50     1.065417\n",
       "51    41.274823\n",
       "52     0.001397\n",
       "53     8.458997\n",
       "54     1.514681\n",
       "55     0.084789\n",
       "dtype: float64"
      ]
     },
     "execution_count": 17,
     "metadata": {},
     "output_type": "execute_result"
    }
   ],
   "source": [
    "(zipcodes_test.area / 10**6) /  2.58998811"
   ]
  },
  {
   "cell_type": "code",
   "execution_count": 18,
   "id": "c32860ec-405b-41e9-a1b6-416141589b03",
   "metadata": {},
   "outputs": [],
   "source": [
    "zipcodes = zipcodes.geometry.to_crs({'proj':'cea'})"
   ]
  },
  {
   "cell_type": "code",
   "execution_count": 19,
   "id": "73e2f9ae-8eac-43ca-a8d9-f20fdcdf1e3d",
   "metadata": {},
   "outputs": [],
   "source": [
    "zipcodes['area_m2'] = (zipcodes.area / 10**6) /  2.58998811"
   ]
  },
  {
   "cell_type": "code",
   "execution_count": 21,
   "id": "f6a62e21-2611-47a1-be27-44897f25a1b5",
   "metadata": {},
   "outputs": [
    {
     "data": {
      "text/plain": [
       "geopandas.geoseries.GeoSeries"
      ]
     },
     "execution_count": 21,
     "metadata": {},
     "output_type": "execute_result"
    }
   ],
   "source": []
  },
  {
   "cell_type": "code",
   "execution_count": null,
   "id": "fd3ebb94-ac45-46c6-9562-392f1745cef7",
   "metadata": {},
   "outputs": [],
   "source": []
  }
 ],
 "metadata": {
  "kernelspec": {
   "display_name": "Python 3 (ipykernel)",
   "language": "python",
   "name": "python3"
  },
  "language_info": {
   "codemirror_mode": {
    "name": "ipython",
    "version": 3
   },
   "file_extension": ".py",
   "mimetype": "text/x-python",
   "name": "python",
   "nbconvert_exporter": "python",
   "pygments_lexer": "ipython3",
   "version": "3.10.13"
  }
 },
 "nbformat": 4,
 "nbformat_minor": 5
}
